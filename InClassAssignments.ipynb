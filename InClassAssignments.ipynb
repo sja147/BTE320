{
  "nbformat": 4,
  "nbformat_minor": 0,
  "metadata": {
    "colab": {
      "provenance": [],
      "authorship_tag": "ABX9TyNsNEqcue8F/gAQ5n9lzKsW",
      "include_colab_link": true
    },
    "kernelspec": {
      "name": "python3",
      "display_name": "Python 3"
    },
    "language_info": {
      "name": "python"
    }
  },
  "cells": [
    {
      "cell_type": "markdown",
      "metadata": {
        "id": "view-in-github",
        "colab_type": "text"
      },
      "source": [
        "<a href=\"https://colab.research.google.com/github/sja147/BTE320/blob/main/InClassAssignments.ipynb\" target=\"_parent\"><img src=\"https://colab.research.google.com/assets/colab-badge.svg\" alt=\"Open In Colab\"/></a>"
      ]
    },
    {
      "cell_type": "markdown",
      "source": [
        "New Input:\n",
        "1. Add input for tax rate (%)\n",
        "\n",
        "New Processes + outputs:\n",
        "1. Calculate taxes: gross profit * taxes\n",
        "2. Net Income: gross profit - taxes"
      ],
      "metadata": {
        "id": "XVvNjLkhFFFs"
      }
    },
    {
      "cell_type": "code",
      "source": [
        "# Inputs: sales ($) and the cost of goods pct (%)\n",
        "sales = input(\"Enter sales ($): \")\n",
        "sales = float(sales)\n",
        "cogs_pct = input(\"Enter Cost of Goods (%): \")\n",
        "cogs_pct = float (cogs_pct)\n",
        "rate = input(\"Enter Tax Rate (%): \")\n",
        "rate = float(taxes)\n",
        "\n",
        "# Processes: calculate cost of goods sold and gross profit\n",
        "cogs = sales * (cogs_pct / 100)\n",
        "grossProfit = sales - cogs\n",
        "taxes = grossProfit * (rate / 100)\n",
        "netIncome = grossProfit - taxes\n",
        "\n",
        "# Outputs: display cost of goods sold and gross profit\n",
        "print(f\"Cost of Goods sold: ${cogs}\")\n",
        "print(f\"Gross Profit: ${grossProfit}\")\n",
        "print(f\"Taxes: ${taxes}\")\n",
        "print(f\"Net income: ${netIncome}\")"
      ],
      "metadata": {
        "colab": {
          "base_uri": "https://localhost:8080/"
        },
        "id": "q9dkhLNUB9QK",
        "outputId": "71c417e9-dc77-416d-ca4a-ae3abe39c966"
      },
      "execution_count": null,
      "outputs": [
        {
          "name": "stdout",
          "output_type": "stream",
          "text": [
            "Enter sales ($): 12000\n",
            "Enter Cost of Goods (%): 40\n"
          ]
        }
      ]
    },
    {
      "cell_type": "code",
      "source": [
        "# Inputs\n",
        "demand = input(\"Enter demand (units/year): \")\n",
        "demand = int(demand)\n",
        "reorder = float(input(\"Enter reorder cost ($/order): \"))\n",
        "holding = float(input(\"Enter holding cost ($/unit/year): \"))\n",
        "\n",
        "# Processes\n",
        "eoq = ((2 * demand * reorder) / holding) **0.5\n",
        "\n",
        "# Output\n",
        "print(f\"EOQ: {eoq} units\")\n",
        "\n"
      ],
      "metadata": {
        "colab": {
          "base_uri": "https://localhost:8080/"
        },
        "id": "bGYDxwkKme1R",
        "outputId": "8b9392c0-fd2c-4106-8a15-34cff9a2c173"
      },
      "execution_count": 4,
      "outputs": [
        {
          "output_type": "stream",
          "name": "stdout",
          "text": [
            "Enter demand (units/year): 1000\n",
            "Enter reorder cost ($/order): 50\n",
            "Enter holding cost ($/unit/year): 10\n",
            "EOQ: 100.0 units\n"
          ]
        }
      ]
    }
  ]
}