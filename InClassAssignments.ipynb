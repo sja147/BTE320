{
  "nbformat": 4,
  "nbformat_minor": 0,
  "metadata": {
    "colab": {
      "provenance": [],
      "authorship_tag": "ABX9TyP3uC5G4nJpBDFkispvVeAv",
      "include_colab_link": true
    },
    "kernelspec": {
      "name": "python3",
      "display_name": "Python 3"
    },
    "language_info": {
      "name": "python"
    }
  },
  "cells": [
    {
      "cell_type": "markdown",
      "metadata": {
        "id": "view-in-github",
        "colab_type": "text"
      },
      "source": [
        "<a href=\"https://colab.research.google.com/github/sja147/BTE320/blob/main/InClassAssignments.ipynb\" target=\"_parent\"><img src=\"https://colab.research.google.com/assets/colab-badge.svg\" alt=\"Open In Colab\"/></a>"
      ]
    },
    {
      "cell_type": "markdown",
      "source": [
        "New Input:\n",
        "1. Add input for tax rate (%)\n",
        "\n",
        "New Processes + outputs:\n",
        "1. Calculate taxes: gross profit * taxes\n",
        "2. Net Income: gross profit - taxes"
      ],
      "metadata": {
        "id": "XVvNjLkhFFFs"
      }
    },
    {
      "cell_type": "code",
      "source": [
        "# Inputs: sales ($) and the cost of goods pct (%)\n",
        "sales = input(\"Enter sales ($): \")\n",
        "sales = float(sales)\n",
        "cogs_pct = input(\"Enter Cost of Goods (%): \")\n",
        "cogs_pct = float (cogs_pct)\n",
        "rate = input(\"Enter Tax Rate (%): \")\n",
        "rate = float(taxes)\n",
        "\n",
        "# Processes: calculate cost of goods sold and gross profit\n",
        "cogs = sales * (cogs_pct / 100)\n",
        "grossProfit = sales - cogs\n",
        "taxes = grossProfit * (rate / 100)\n",
        "netIncome = grossProfit - taxes\n",
        "\n",
        "# Outputs: display cost of goods sold and gross profit\n",
        "print(f\"Cost of Goods sold: ${cogs}\")\n",
        "print(f\"Gross Profit: ${grossProfit}\")\n",
        "print(f\"Taxes: ${taxes}\")\n",
        "print(f\"Net income: ${netIncome}\")"
      ],
      "metadata": {
        "colab": {
          "base_uri": "https://localhost:8080/"
        },
        "id": "q9dkhLNUB9QK",
        "outputId": "71c417e9-dc77-416d-ca4a-ae3abe39c966"
      },
      "execution_count": null,
      "outputs": [
        {
          "name": "stdout",
          "output_type": "stream",
          "text": [
            "Enter sales ($): 12000\n",
            "Enter Cost of Goods (%): 40\n"
          ]
        }
      ]
    },
    {
      "cell_type": "code",
      "source": [
        "# Inputs\n",
        "demand = input(\"Enter demand (units/year): \")\n",
        "demand = int(demand)\n",
        "reorder = float(input(\"Enter reorder cost ($/order): \"))\n",
        "holding = float(input(\"Enter holding cost ($/unit/year): \"))\n",
        "\n",
        "# Processes\n",
        "eoq = ((2 * demand * reorder) / holding) **0.5\n",
        "\n",
        "# Output\n",
        "print(f\"EOQ: {eoq} units\")\n",
        "\n"
      ],
      "metadata": {
        "colab": {
          "base_uri": "https://localhost:8080/"
        },
        "id": "bGYDxwkKme1R",
        "outputId": "8b9392c0-fd2c-4106-8a15-34cff9a2c173"
      },
      "execution_count": null,
      "outputs": [
        {
          "output_type": "stream",
          "name": "stdout",
          "text": [
            "Enter demand (units/year): 1000\n",
            "Enter reorder cost ($/order): 50\n",
            "Enter holding cost ($/unit/year): 10\n",
            "EOQ: 100.0 units\n"
          ]
        }
      ]
    },
    {
      "cell_type": "code",
      "source": [
        "x = int(input('Enter a number: '))\n",
        "\n",
        "if x % 2 == 0:\n",
        "  if x % 3 == 0:\n",
        "    print(f\"{x} is divisible by both.\")\n",
        "  else:\n",
        "    print(f\"{x} is divisible by 2 but not by 3.\")\n",
        "elif x % 3 == 0:\n",
        "  print(f\"{x} is divisble by 3 but not by 2.\")\n",
        "else:\n",
        "  print(f\"{x} is divisible by none of them.\")"
      ],
      "metadata": {
        "id": "1h9v9cOl-rlx"
      },
      "execution_count": null,
      "outputs": []
    },
    {
      "cell_type": "code",
      "source": [
        "x = float(input('Enter a number: '))\n",
        "y = float(input('Enter another number: '))\n",
        "op = input('Enter an operator (+, -, *, /, //, **, %): ')\n",
        "\n",
        "if op == \"+\":\n",
        "  res = x + y\n",
        "elif op == \"-\":\n",
        "  res = x - y\n",
        "elif op == \"*\":\n",
        "  res = x * y\n",
        "elif op == \"/\":\n",
        "  res = x / y\n",
        "elif op == \"//\":\n",
        "  res = x // y\n",
        "elif op == \"**\":\n",
        "  res = x ** y\n",
        "elif op == \"%\":\n",
        "  res = x % y\n",
        "else:\n",
        "  res = None\n",
        "  print(\"Invalid operator\")\n",
        "\n",
        "print(f\"result = {res}\")\n",
        "\n",
        "\n"
      ],
      "metadata": {
        "id": "8Gk8S_ioGJU0",
        "colab": {
          "base_uri": "https://localhost:8080/"
        },
        "outputId": "7b1e62f7-be81-4669-9dd1-f8d0cf19b8ca"
      },
      "execution_count": null,
      "outputs": [
        {
          "output_type": "stream",
          "name": "stdout",
          "text": [
            "Enter a number: 5\n",
            "Enter another number: 5\n",
            "Enter an operator (+, -, *, /, //, **, %): _\n",
            "Invalid operator\n",
            "result = None\n"
          ]
        }
      ]
    },
    {
      "cell_type": "code",
      "source": [
        "for hour in range(1,9):\n",
        "  fee = 5 + 2.5 * hour\n",
        "\n",
        "  if fee < 10:\n",
        "    fee = 10.0\n",
        "  elif fee > 20:\n",
        "    fee = 20.0\n",
        "\n",
        "print(hour,fee)"
      ],
      "metadata": {
        "collapsed": true,
        "id": "Xiv6DttyEi_y"
      },
      "execution_count": null,
      "outputs": []
    }
  ]
}